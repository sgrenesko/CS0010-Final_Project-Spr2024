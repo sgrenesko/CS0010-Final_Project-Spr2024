{
 "cells": [
  {
   "cell_type": "code",
   "execution_count": 8,
   "metadata": {},
   "outputs": [
    {
     "name": "stdout",
     "output_type": "stream",
     "text": [
      "neighborhood\n",
      "Bloomfield              3\n",
      "Brookline               4\n",
      "Carrick                 9\n",
      "Central Oakland         1\n",
      "Garfield                3\n",
      "Highland Park           2\n",
      "Homewood South          4\n",
      "Mount Washington        3\n",
      "North Oakland           6\n",
      "Overbrook               1\n",
      "Perry North             4\n",
      "Polish Hill             6\n",
      "South Side Flats        3\n",
      "South Side Slopes       4\n",
      "Squirrel Hill North     3\n",
      "Squirrel Hill South    18\n",
      "Stanton Heights         1\n",
      "Upper Hill              4\n",
      "dtype: int64\n"
     ]
    }
   ],
   "source": [
    "import pandas as pd\n",
    "%matplotlib inline\n",
    "\n",
    "#Import data from the speedbump csv, sort it by neighborhood, grouping each entry to get a count of roads with speed bumps in each area\n",
    "bumpData=pd.read_csv(\"speed_bump_data.csv\", index_col=\"neighborhood\")\n",
    "neighborhoodCount=bumpData.groupby('neighborhood').size()"
   ]
  },
  {
   "cell_type": "code",
   "execution_count": null,
   "metadata": {},
   "outputs": [],
   "source": []
  }
 ],
 "metadata": {
  "kernelspec": {
   "display_name": "Python 3",
   "language": "python",
   "name": "python3"
  },
  "language_info": {
   "codemirror_mode": {
    "name": "ipython",
    "version": 3
   },
   "file_extension": ".py",
   "mimetype": "text/x-python",
   "name": "python",
   "nbconvert_exporter": "python",
   "pygments_lexer": "ipython3",
   "version": "3.8.3"
  }
 },
 "nbformat": 4,
 "nbformat_minor": 4
}
